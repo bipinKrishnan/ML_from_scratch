{
  "nbformat": 4,
  "nbformat_minor": 0,
  "metadata": {
    "colab": {
      "name": "fashionMNIST_d2l.ipynb",
      "provenance": [],
      "authorship_tag": "ABX9TyPk92OQLXXUYpl03kcP0Di4",
      "include_colab_link": true
    },
    "kernelspec": {
      "name": "python3",
      "display_name": "Python 3"
    }
  },
  "cells": [
    {
      "cell_type": "markdown",
      "metadata": {
        "id": "view-in-github",
        "colab_type": "text"
      },
      "source": [
        "<a href=\"https://colab.research.google.com/github/bipinKrishnan/ML_from_scratch/blob/master/fashionMNIST_d2l.ipynb\" target=\"_parent\"><img src=\"https://colab.research.google.com/assets/colab-badge.svg\" alt=\"Open In Colab\"/></a>"
      ]
    },
    {
      "cell_type": "code",
      "metadata": {
        "id": "4khPv9XYXJ-k",
        "colab_type": "code",
        "colab": {}
      },
      "source": [
        "import torch\n",
        "from torchvision import datasets\n",
        "from torchvision.transforms import transforms\n",
        "from torch.utils.data import DataLoader\n",
        "\n",
        "import matplotlib.pyplot as plt"
      ],
      "execution_count": 17,
      "outputs": []
    },
    {
      "cell_type": "code",
      "metadata": {
        "id": "3KzIKG1NXVN8",
        "colab_type": "code",
        "colab": {}
      },
      "source": [
        "transform = transforms.ToTensor()\n",
        "trainset = datasets.FashionMNIST(root='../data', train=True, download=True, transform=transform)\n",
        "testset = datasets.FashionMNIST(root='../data', train=False, download=True, transform=transform)"
      ],
      "execution_count": 139,
      "outputs": []
    },
    {
      "cell_type": "code",
      "metadata": {
        "id": "ojWiuKiRYDZ8",
        "colab_type": "code",
        "colab": {
          "base_uri": "https://localhost:8080/",
          "height": 34
        },
        "outputId": "b193c6b0-039c-453a-b3d3-5622137fbaf8"
      },
      "source": [
        "len(trainset), len(testset)"
      ],
      "execution_count": 7,
      "outputs": [
        {
          "output_type": "execute_result",
          "data": {
            "text/plain": [
              "(60000, 10000)"
            ]
          },
          "metadata": {
            "tags": []
          },
          "execution_count": 7
        }
      ]
    },
    {
      "cell_type": "code",
      "metadata": {
        "id": "Hlr5m2fZYND_",
        "colab_type": "code",
        "colab": {
          "base_uri": "https://localhost:8080/",
          "height": 34
        },
        "outputId": "4f443dc3-98bc-4116-a668-89c38b6e2e38"
      },
      "source": [
        "trainset[0][0].shape"
      ],
      "execution_count": 9,
      "outputs": [
        {
          "output_type": "execute_result",
          "data": {
            "text/plain": [
              "torch.Size([1, 28, 28])"
            ]
          },
          "metadata": {
            "tags": []
          },
          "execution_count": 9
        }
      ]
    },
    {
      "cell_type": "code",
      "metadata": {
        "id": "UyHuQcJNYQ0p",
        "colab_type": "code",
        "colab": {}
      },
      "source": [
        "def get_labels(label):\n",
        "  text_labels = ['t-shirt', 'trouser', 'pullover', 'dress', 'coat',\n",
        "            'sandal', 'shirt', 'sneaker', 'bag', 'ankle boot']\n",
        "\n",
        "  return text_labels[int(label)]"
      ],
      "execution_count": 47,
      "outputs": []
    },
    {
      "cell_type": "code",
      "metadata": {
        "id": "FqDR7b-pYomk",
        "colab_type": "code",
        "colab": {}
      },
      "source": [
        "def show_img(num_rows, num_columns):\n",
        "  plt.figure(figsize=(8, 6))\n",
        "  \n",
        "  for i, (img, label) in enumerate(trainset):\n",
        "    plt.subplot(num_rows, num_columns, i+1)\n",
        "    plt.title(get_labels(label))\n",
        "    plt.xticks([])\n",
        "    plt.yticks([])\n",
        "    plt.imshow(img.squeeze())\n",
        "\n",
        "    if (i+1) >= (num_rows*num_columns):\n",
        "      break\n",
        "  plt.show()"
      ],
      "execution_count": 56,
      "outputs": []
    },
    {
      "cell_type": "code",
      "metadata": {
        "id": "u31E6qxIY9e6",
        "colab_type": "code",
        "colab": {
          "base_uri": "https://localhost:8080/",
          "height": 377
        },
        "outputId": "63fad3b6-7dc5-4775-d236-d4783ca2feaf"
      },
      "source": [
        "show_img(3, 4)"
      ],
      "execution_count": 57,
      "outputs": [
        {
          "output_type": "display_data",
          "data": {
            "image/png": "[encoded data removed]",
            "text/plain": [
              "<Figure size 576x432 with 12 Axes>"
            ]
          },
          "metadata": {
            "tags": []
          }
        }
      ]
    },
    {
      "cell_type": "code",
      "metadata": {
        "id": "R3rp35qddHM1",
        "colab_type": "code",
        "colab": {}
      },
      "source": [
        "dataloader_workers = 4\n",
        "bs = 256\n",
        "trainloader = DataLoader(trainset, batch_size=bs, shuffle=True, num_workers=dataloader_workers)"
      ],
      "execution_count": 109,
      "outputs": []
    },
    {
      "cell_type": "code",
      "metadata": {
        "id": "rizNoJxDda_H",
        "colab_type": "code",
        "colab": {
          "base_uri": "https://localhost:8080/",
          "height": 34
        },
        "outputId": "cdd0c38b-2c8b-42b1-9a7b-8abb6bc7435a"
      },
      "source": [
        "for img, label in trainloader:\n",
        "  print(img.shape, label.shape)\n",
        "  break"
      ],
      "execution_count": 111,
      "outputs": [
        {
          "output_type": "stream",
          "text": [
            "torch.Size([256, 1, 28, 28]) torch.Size([256])\n"
          ],
          "name": "stdout"
        }
      ]
    },
    {
      "cell_type": "markdown",
      "metadata": {
        "id": "dqmACLAJeyIq",
        "colab_type": "text"
      },
      "source": [
        "Putting everything together"
      ]
    },
    {
      "cell_type": "code",
      "metadata": {
        "id": "ma9qCxtre1-3",
        "colab_type": "code",
        "colab": {}
      },
      "source": [
        "def load_data(batch_size=bs, transform=None):\n",
        "  if transform:\n",
        "    trans = transforms.Compose(transform)\n",
        "\n",
        "  trainset = datasets.FashionMNIST(root='../data', train=True, download=True, transform=transform)\n",
        "  testset = datasets.FashionMNIST(root='../data', train=False, download=True, transform=transform)\n",
        "\n",
        "  return (DataLoader(trainset, batch_size=bs, shuffle=True, num_workers=dataloader_workers), \n",
        "          DataLoader(testset, batch_size=bs, shuffle=False, num_workers=dataloader_workers))\n"
      ],
      "execution_count": 130,
      "outputs": []
    },
    {
      "cell_type": "code",
      "metadata": {
        "id": "f7MhRti2fdsL",
        "colab_type": "code",
        "colab": {}
      },
      "source": [
        "train_iter, test_iter = load_data(transform=transform)"
      ],
      "execution_count": 142,
      "outputs": []
    },
    {
      "cell_type": "code",
      "metadata": {
        "id": "voF9A4phfhac",
        "colab_type": "code",
        "colab": {
          "base_uri": "https://localhost:8080/",
          "height": 34
        },
        "outputId": "ef850c7d-019d-4c7f-c21b-a3867c43934b"
      },
      "source": [
        "for (img1, label1), (img2, label2) in zip(train_iter, test_iter):\n",
        "  print(img1.shape, label1.shape, img2.shape, label2.shape)\n",
        "  break"
      ],
      "execution_count": 143,
      "outputs": [
        {
          "output_type": "stream",
          "text": [
            "torch.Size([256, 1, 28, 28]) torch.Size([256]) torch.Size([256, 1, 28, 28]) torch.Size([256])\n"
          ],
          "name": "stdout"
        }
      ]
    },
    {
      "cell_type": "code",
      "metadata": {
        "id": "_TTzIMQPf1JS",
        "colab_type": "code",
        "colab": {}
      },
      "source": [
        ""
      ],
      "execution_count": null,
      "outputs": []
    }
  ]
}