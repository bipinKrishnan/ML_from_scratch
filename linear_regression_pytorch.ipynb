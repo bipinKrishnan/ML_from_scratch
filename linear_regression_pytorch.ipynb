{
  "nbformat": 4,
  "nbformat_minor": 0,
  "metadata": {
    "colab": {
      "name": "linear_regression_pytorch.ipynb",
      "provenance": [],
      "authorship_tag": "ABX9TyO0aX7Z3An+Knw7IQVO6meX",
      "include_colab_link": true
    },
    "kernelspec": {
      "name": "python3",
      "display_name": "Python 3"
    }
  },
  "cells": [
    {
      "cell_type": "markdown",
      "metadata": {
        "id": "view-in-github",
        "colab_type": "text"
      },
      "source": [
        "<a href=\"https://colab.research.google.com/github/bipinKrishnan/ML_from_scratch/blob/master/linear_regression_pytorch.ipynb\" target=\"_parent\"><img src=\"https://colab.research.google.com/assets/colab-badge.svg\" alt=\"Open In Colab\"/></a>"
      ]
    },
    {
      "cell_type": "code",
      "metadata": {
        "id": "MmfZlg3m8XDl",
        "colab_type": "code",
        "colab": {}
      },
      "source": [
        "import torch\n",
        "from torch.utils.data import DataLoader\n",
        "from torch import optim\n",
        "from torch.utils.data import TensorDataset"
      ],
      "execution_count": 74,
      "outputs": []
    },
    {
      "cell_type": "code",
      "metadata": {
        "id": "zbM5bSFB8qI8",
        "colab_type": "code",
        "colab": {}
      },
      "source": [
        "true_w = torch.tensor([4.2, -3.7]).reshape(2, 1)\n",
        "true_b = torch.tensor([4.4])\n",
        "\n",
        "def generate_data(weights, bias):\n",
        "  features = torch.normal(0, 1, (10, weights.size(0)))\n",
        "  labels = features@weights+bias\n",
        "\n",
        "  return features, labels.reshape(-1, 1)\n",
        "\n",
        "features, labels = generate_data(true_w, true_b)"
      ],
      "execution_count": 75,
      "outputs": []
    },
    {
      "cell_type": "code",
      "metadata": {
        "id": "vazk15h7ACY7",
        "colab_type": "code",
        "colab": {
          "base_uri": "https://localhost:8080/",
          "height": 34
        },
        "outputId": "c36dfb23-8d59-4d54-f5d0-f22c005e2634"
      },
      "source": [
        "features.shape, labels.shape"
      ],
      "execution_count": 76,
      "outputs": [
        {
          "output_type": "execute_result",
          "data": {
            "text/plain": [
              "(torch.Size([10, 2]), torch.Size([10, 1]))"
            ]
          },
          "metadata": {
            "tags": []
          },
          "execution_count": 76
        }
      ]
    },
    {
      "cell_type": "code",
      "metadata": {
        "id": "3JuUwLKL880Z",
        "colab_type": "code",
        "colab": {}
      },
      "source": [
        "dataset = TensorDataset(features, labels)\n",
        "dataloader = DataLoader(dataset, batch_size=2, shuffle=True)\n",
        "\n",
        "##########OR#################\n",
        "def load_array(data, batch_size, is_train=True):\n",
        "  data = TensorDataset(*data)\n",
        "  return DataLoader(data, batch_size, shuffle=is_train)\n",
        "\n",
        "dataloader1 = load_array((features, labels), 2)"
      ],
      "execution_count": 77,
      "outputs": []
    },
    {
      "cell_type": "code",
      "metadata": {
        "id": "9UXJLvA8CClD",
        "colab_type": "code",
        "colab": {
          "base_uri": "https://localhost:8080/",
          "height": 69
        },
        "outputId": "3891d0d8-168d-4543-ce65-0d09632c5c4e"
      },
      "source": [
        "next(iter(dataloader1))"
      ],
      "execution_count": 78,
      "outputs": [
        {
          "output_type": "execute_result",
          "data": {
            "text/plain": [
              "[tensor([[-0.1685, -0.5817],\n",
              "         [-0.5273,  1.0556]]), tensor([[ 5.8449],\n",
              "         [-1.7201]])]"
            ]
          },
          "metadata": {
            "tags": []
          },
          "execution_count": 78
        }
      ]
    },
    {
      "cell_type": "code",
      "metadata": {
        "id": "v6a1JbZuCIUZ",
        "colab_type": "code",
        "colab": {}
      },
      "source": [
        "net = torch.nn.Sequential(torch.nn.Linear(2, 1))"
      ],
      "execution_count": 79,
      "outputs": []
    },
    {
      "cell_type": "code",
      "metadata": {
        "id": "x47bVcU2DeC6",
        "colab_type": "code",
        "colab": {
          "base_uri": "https://localhost:8080/",
          "height": 121
        },
        "outputId": "5b89100e-2e77-4ccb-d01b-4041abc9f1c8"
      },
      "source": [
        "net[0].weight = torch.nn.Parameter(torch.normal(0, 0.01, (1, 2)))\n",
        "print(torch.nn.Parameter(torch.normal(0, 0.01, (1, 2))))\n",
        "\n",
        "###############OR#####################\n",
        "net[0].weight.data.normal_(0, 0.01)\n",
        "net[0].bias.data.fill_(0)\n",
        "print(\"\\n\", net[0].weight, net[0].bias)"
      ],
      "execution_count": 80,
      "outputs": [
        {
          "output_type": "stream",
          "text": [
            "Parameter containing:\n",
            "tensor([[ 0.0026, -0.0127]], requires_grad=True)\n",
            "\n",
            " Parameter containing:\n",
            "tensor([[0.0023, 0.0116]], requires_grad=True) Parameter containing:\n",
            "tensor([0.], requires_grad=True)\n"
          ],
          "name": "stdout"
        }
      ]
    },
    {
      "cell_type": "code",
      "metadata": {
        "id": "Maqv7GdiDe8g",
        "colab_type": "code",
        "colab": {
          "base_uri": "https://localhost:8080/",
          "height": 52
        },
        "outputId": "e46c1d61-d69f-41a9-8c15-b0780f5ef420"
      },
      "source": [
        "next(iter(net.parameters()))"
      ],
      "execution_count": 81,
      "outputs": [
        {
          "output_type": "execute_result",
          "data": {
            "text/plain": [
              "Parameter containing:\n",
              "tensor([[0.0023, 0.0116]], requires_grad=True)"
            ]
          },
          "metadata": {
            "tags": []
          },
          "execution_count": 81
        }
      ]
    },
    {
      "cell_type": "code",
      "metadata": {
        "id": "plAJ9cyeEKQw",
        "colab_type": "code",
        "colab": {}
      },
      "source": [
        "criterion = torch.nn.MSELoss()\n",
        "opt = optim.SGD(net.parameters(), lr=0.03)"
      ],
      "execution_count": 82,
      "outputs": []
    },
    {
      "cell_type": "code",
      "metadata": {
        "id": "p5zcn8hMFOwH",
        "colab_type": "code",
        "colab": {
          "base_uri": "https://localhost:8080/",
          "height": 191
        },
        "outputId": "3bf84459-61f1-449d-e948-9c746b860da4"
      },
      "source": [
        "epochs = 10\n",
        "\n",
        "for epoch in range(epochs):\n",
        "  for data, labels in dataloader1:\n",
        "    opt.zero_grad()\n",
        "    out = net(data)\n",
        "    loss = criterion(out, labels)\n",
        "\n",
        "    loss.backward()\n",
        "    opt.step()\n",
        "\n",
        "  print(\"Epoch: {}/{}  loss: {}\".format(epoch+1, epochs, loss.item()))"
      ],
      "execution_count": 87,
      "outputs": [
        {
          "output_type": "stream",
          "text": [
            "Epoch: 1/10  loss: 0.05346938967704773\n",
            "Epoch: 2/10  loss: 0.0019451972329989076\n",
            "Epoch: 3/10  loss: 0.023427261039614677\n",
            "Epoch: 4/10  loss: 0.006707999389618635\n",
            "Epoch: 5/10  loss: 0.02205773815512657\n",
            "Epoch: 6/10  loss: 1.2233123015903402e-05\n",
            "Epoch: 7/10  loss: 0.004510745406150818\n",
            "Epoch: 8/10  loss: 0.003103286027908325\n",
            "Epoch: 9/10  loss: 5.480849358718842e-05\n",
            "Epoch: 10/10  loss: 4.442899444256909e-05\n"
          ],
          "name": "stdout"
        }
      ]
    },
    {
      "cell_type": "code",
      "metadata": {
        "id": "Hdprlpd-Frfk",
        "colab_type": "code",
        "colab": {
          "base_uri": "https://localhost:8080/",
          "height": 86
        },
        "outputId": "ddffc6d3-e4fc-4825-f866-61780be6f64c"
      },
      "source": [
        "net[0].weight, net[0].bias, true_w, true_b"
      ],
      "execution_count": 88,
      "outputs": [
        {
          "output_type": "execute_result",
          "data": {
            "text/plain": [
              "(Parameter containing:\n",
              " tensor([[ 4.2010, -3.6817]], requires_grad=True), Parameter containing:\n",
              " tensor([4.3887], requires_grad=True), tensor([[ 4.2000],\n",
              "         [-3.7000]]), tensor([4.4000]))"
            ]
          },
          "metadata": {
            "tags": []
          },
          "execution_count": 88
        }
      ]
    }
  ]
}