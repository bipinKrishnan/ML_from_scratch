{
  "nbformat": 4,
  "nbformat_minor": 0,
  "metadata": {
    "colab": {
      "name": "KNN_from_scratch.ipynb",
      "provenance": [],
      "authorship_tag": "ABX9TyNyx50O8yNL4qvOiMAMb0b8",
      "include_colab_link": true
    },
    "kernelspec": {
      "name": "python3",
      "display_name": "Python 3"
    }
  },
  "cells": [
    {
      "cell_type": "markdown",
      "metadata": {
        "id": "view-in-github",
        "colab_type": "text"
      },
      "source": [
        "<a href=\"https://colab.research.google.com/github/bipinKrishnan/ML_from_scratch/blob/master/KNN_from_scratch.ipynb\" target=\"_parent\"><img src=\"https://colab.research.google.com/assets/colab-badge.svg\" alt=\"Open In Colab\"/></a>"
      ]
    },
    {
      "cell_type": "code",
      "metadata": {
        "id": "6iXZiN9AxOwj",
        "colab_type": "code",
        "colab": {}
      },
      "source": [
        "import numpy as np\n",
        "import matplotlib.pyplot as plt\n",
        "from sklearn.datasets import load_iris\n",
        "from sklearn.neighbors import KNeighborsClassifier"
      ],
      "execution_count": 3,
      "outputs": []
    },
    {
      "cell_type": "markdown",
      "metadata": {
        "id": "vPIzOCSwbt9B",
        "colab_type": "text"
      },
      "source": [
        "## Visualizing Data"
      ]
    },
    {
      "cell_type": "code",
      "metadata": {
        "id": "TmU2nY8axUEM",
        "colab_type": "code",
        "colab": {}
      },
      "source": [
        "data = load_iris()"
      ],
      "execution_count": 75,
      "outputs": []
    },
    {
      "cell_type": "code",
      "metadata": {
        "id": "PhY8jRr7xuh5",
        "colab_type": "code",
        "colab": {
          "base_uri": "https://localhost:8080/",
          "height": 285
        },
        "outputId": "8e7609fc-ec8e-45f1-bfd5-27c2a21d2ac3"
      },
      "source": [
        "plt.scatter(data.data[:, 0], data.data[:, 1], marker='^', c=data.target)\n",
        "plt.legend()\n",
        "plt.plot(4, 2, 'r*', markersize=10)\n",
        "plt.show()"
      ],
      "execution_count": 67,
      "outputs": [
        {
          "output_type": "stream",
          "text": [
            "No handles with labels found to put in legend.\n"
          ],
          "name": "stderr"
        },
        {
          "output_type": "display_data",
          "data": {
            "image/png": "[encoded data removed]",
            "text/plain": [
              "<Figure size 432x288 with 1 Axes>"
            ]
          },
          "metadata": {
            "tags": [],
            "needs_background": "light"
          }
        }
      ]
    },
    {
      "cell_type": "markdown",
      "metadata": {
        "id": "s6kc86ID7OjH",
        "colab_type": "text"
      },
      "source": [
        "## KNN classifier"
      ]
    },
    {
      "cell_type": "code",
      "metadata": {
        "id": "hiCO6dGw6UKT",
        "colab_type": "code",
        "colab": {}
      },
      "source": [
        "import torch"
      ],
      "execution_count": 373,
      "outputs": []
    },
    {
      "cell_type": "code",
      "metadata": {
        "id": "L8KUc5sE7N9M",
        "colab_type": "code",
        "colab": {}
      },
      "source": [
        "class KNN():\n",
        "  def __init__(self, n_neighbors):\n",
        "    self.n_neighbors = n_neighbors\n",
        "\n",
        "  def euclidean_dist(self, x1, x2):\n",
        "    return -(torch.mean(torch.sqrt((x1 - x2)**2), dim=1))\n",
        "\n",
        "  def fit(self, train_x, train_y):\n",
        "    self.data_x = train_x\n",
        "    self.data_y = train_y\n",
        "  \n",
        "  def top_neighbors(self, X, y, test_x):\n",
        "    out = []\n",
        "\n",
        "    for i in range(test_x.size(0)):\n",
        "      dist = self.euclidean_dist(self.data_x.data, test_x[i])\n",
        "      neighbor = ((self.data_y[dist.topk(self.n_neighbors, dim=0).indices]).sum())/self.n_neighbors\n",
        "\n",
        "      out.append(neighbor.item())\n",
        "\n",
        "    return out\n",
        "\n",
        "  def predict(self, test_x):\n",
        "    return self.top_neighbors(self.data_x, self.data_y, test_x)\n"
      ],
      "execution_count": 333,
      "outputs": []
    },
    {
      "cell_type": "markdown",
      "metadata": {
        "id": "Ul8LAtW2NlCe",
        "colab_type": "text"
      },
      "source": [
        "## Comparing Results"
      ]
    },
    {
      "cell_type": "code",
      "metadata": {
        "id": "4bwubGHFVLyx",
        "colab_type": "code",
        "colab": {}
      },
      "source": [
        "from sklearn.model_selection import train_test_split"
      ],
      "execution_count": 290,
      "outputs": []
    },
    {
      "cell_type": "code",
      "metadata": {
        "id": "H0w3U6tkVP9r",
        "colab_type": "code",
        "colab": {}
      },
      "source": [
        "x_train, x_test, y_train, y_test = train_test_split(data.data, data.target, random_state=42, shuffle=True, stratify=data.target)"
      ],
      "execution_count": 291,
      "outputs": []
    },
    {
      "cell_type": "code",
      "metadata": {
        "id": "tD6x3h8YVvUq",
        "colab_type": "code",
        "colab": {}
      },
      "source": [
        "x_train.shape, y_train.shape"
      ],
      "execution_count": null,
      "outputs": []
    },
    {
      "cell_type": "code",
      "metadata": {
        "id": "blwNLxFFV-Vm",
        "colab_type": "code",
        "colab": {}
      },
      "source": [
        "#inputs for pytorch model\n",
        "X = torch.from_numpy(x_train)\n",
        "y = torch.from_numpy(y_train)\n",
        "X_ = torch.from_numpy(x_test)"
      ],
      "execution_count": 295,
      "outputs": []
    },
    {
      "cell_type": "markdown",
      "metadata": {
        "id": "voLH37ZFbh0l",
        "colab_type": "text"
      },
      "source": [
        "Our Model"
      ]
    },
    {
      "cell_type": "code",
      "metadata": {
        "id": "QB8wtzHFVhmD",
        "colab_type": "code",
        "colab": {
          "base_uri": "https://localhost:8080/",
          "height": 712
        },
        "outputId": "7edb1e43-240a-4812-9992-f15195f99804"
      },
      "source": [
        "%time\n",
        "knn_p = KNN(10)\n",
        "knn_p.fit(X, y)\n",
        "knn_p.predict(X_)"
      ],
      "execution_count": 371,
      "outputs": [
        {
          "output_type": "stream",
          "text": [
            "CPU times: user 2 µs, sys: 0 ns, total: 2 µs\n",
            "Wall time: 5.01 µs\n"
          ],
          "name": "stdout"
        },
        {
          "output_type": "execute_result",
          "data": {
            "text/plain": [
              "[0,\n",
              " 1,\n",
              " 1,\n",
              " 1,\n",
              " 0,\n",
              " 1,\n",
              " 1,\n",
              " 1,\n",
              " 2,\n",
              " 2,\n",
              " 1,\n",
              " 2,\n",
              " 1,\n",
              " 1,\n",
              " 0,\n",
              " 0,\n",
              " 0,\n",
              " 1,\n",
              " 0,\n",
              " 1,\n",
              " 2,\n",
              " 1,\n",
              " 1,\n",
              " 1,\n",
              " 2,\n",
              " 1,\n",
              " 0,\n",
              " 1,\n",
              " 0,\n",
              " 1,\n",
              " 2,\n",
              " 2,\n",
              " 0,\n",
              " 0,\n",
              " 0,\n",
              " 0,\n",
              " 2,\n",
              " 1]"
            ]
          },
          "metadata": {
            "tags": []
          },
          "execution_count": 371
        }
      ]
    },
    {
      "cell_type": "markdown",
      "metadata": {
        "id": "gGYImXVfbkMI",
        "colab_type": "text"
      },
      "source": [
        "Sklearn's Model"
      ]
    },
    {
      "cell_type": "code",
      "metadata": {
        "id": "ep4tE_JuXAES",
        "colab_type": "code",
        "colab": {
          "base_uri": "https://localhost:8080/",
          "height": 86
        },
        "outputId": "3270578d-8e01-433f-d1bb-bbd7a1c4dd39"
      },
      "source": [
        "%time\n",
        "#sklearn's model\n",
        "knn_s = KNeighborsClassifier(10)\n",
        "knn_s.fit(x_train, y_train)\n",
        "knn_s.predict(x_test)"
      ],
      "execution_count": 372,
      "outputs": [
        {
          "output_type": "stream",
          "text": [
            "CPU times: user 3 µs, sys: 1e+03 ns, total: 4 µs\n",
            "Wall time: 6.44 µs\n"
          ],
          "name": "stdout"
        },
        {
          "output_type": "execute_result",
          "data": {
            "text/plain": [
              "array([0, 1, 1, 1, 0, 1, 2, 2, 2, 2, 1, 2, 1, 1, 0, 0, 0, 1, 0, 1, 2, 1,\n",
              "       2, 1, 2, 1, 0, 2, 0, 1, 2, 2, 0, 0, 0, 0, 2, 1])"
            ]
          },
          "metadata": {
            "tags": []
          },
          "execution_count": 372
        }
      ]
    }
  ]
}