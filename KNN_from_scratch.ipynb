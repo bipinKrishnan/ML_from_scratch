{
  "nbformat": 4,
  "nbformat_minor": 0,
  "metadata": {
    "colab": {
      "name": "KNN_from_scratch.ipynb",
      "provenance": [],
      "collapsed_sections": [
        "vPIzOCSwbt9B",
        "s6kc86ID7OjH",
        "NSay665Azpwo"
      ],
      "authorship_tag": "ABX9TyP/hCIEIFOn/SHWTapsJK3O",
      "include_colab_link": true
    },
    "kernelspec": {
      "name": "python3",
      "display_name": "Python 3"
    }
  },
  "cells": [
    {
      "cell_type": "markdown",
      "metadata": {
        "id": "view-in-github",
        "colab_type": "text"
      },
      "source": [
        "<a href=\"https://colab.research.google.com/github/bipinKrishnan/ML_from_scratch/blob/master/KNN_from_scratch.ipynb\" target=\"_parent\"><img src=\"https://colab.research.google.com/assets/colab-badge.svg\" alt=\"Open In Colab\"/></a>"
      ]
    },
    {
      "cell_type": "code",
      "metadata": {
        "id": "6iXZiN9AxOwj",
        "colab_type": "code",
        "colab": {}
      },
      "source": [
        "import numpy as np\n",
        "import matplotlib.pyplot as plt\n",
        "from sklearn.datasets import load_iris\n",
        "from sklearn.neighbors import KNeighborsClassifier"
      ],
      "execution_count": 1,
      "outputs": []
    },
    {
      "cell_type": "markdown",
      "metadata": {
        "id": "vPIzOCSwbt9B",
        "colab_type": "text"
      },
      "source": [
        "# Visualizing Data"
      ]
    },
    {
      "cell_type": "code",
      "metadata": {
        "id": "TmU2nY8axUEM",
        "colab_type": "code",
        "colab": {}
      },
      "source": [
        "data = load_iris()"
      ],
      "execution_count": 2,
      "outputs": []
    },
    {
      "cell_type": "code",
      "metadata": {
        "id": "PhY8jRr7xuh5",
        "colab_type": "code",
        "colab": {
          "base_uri": "https://localhost:8080/",
          "height": 268
        },
        "outputId": "39cf7116-68a1-4c55-8719-2bb3a38ad10e"
      },
      "source": [
        "plt.scatter(data.data[:, 0], data.data[:, 1], marker='^', c=data.target)\n",
        "plt.plot(4, 2, 'r*', markersize=10)\n",
        "plt.show()"
      ],
      "execution_count": 3,
      "outputs": [
        {
          "output_type": "display_data",
          "data": {
            "image/png": "[encoded data removed]",
            "text/plain": [
              "<Figure size 432x288 with 1 Axes>"
            ]
          },
          "metadata": {
            "tags": [],
            "needs_background": "light"
          }
        }
      ]
    },
    {
      "cell_type": "markdown",
      "metadata": {
        "id": "s6kc86ID7OjH",
        "colab_type": "text"
      },
      "source": [
        "# KNN classifier"
      ]
    },
    {
      "cell_type": "code",
      "metadata": {
        "id": "hiCO6dGw6UKT",
        "colab_type": "code",
        "colab": {}
      },
      "source": [
        "import torch"
      ],
      "execution_count": 4,
      "outputs": []
    },
    {
      "cell_type": "code",
      "metadata": {
        "id": "L8KUc5sE7N9M",
        "colab_type": "code",
        "colab": {}
      },
      "source": [
        "class KNN():\n",
        "  def __init__(self, n_neighbors=3):\n",
        "    self.n_neighbors = n_neighbors\n",
        "\n",
        "  def euclidean_dist(self, x1, x2):\n",
        "    return -(torch.mean(torch.sqrt((x1 - x2)**2), dim=1))\n",
        "\n",
        "  def fit(self, train_x, train_y):\n",
        "    self.data_x = train_x\n",
        "    self.data_y = train_y\n",
        "  \n",
        "  def top_neighbors(self, X, y, test_x):\n",
        "    out = []\n",
        "\n",
        "    for i in range(test_x.size(0)):\n",
        "      dist = self.euclidean_dist(self.data_x.data, test_x[i])\n",
        "      neighbor = ((self.data_y[dist.topk(self.n_neighbors, dim=0).indices]).sum())/float(self.n_neighbors)\n",
        "\n",
        "      out.append(neighbor.round())\n",
        "\n",
        "    return torch.tensor(out, dtype=torch.int32)\n",
        "\n",
        "  def predict(self, test_x):\n",
        "    return self.top_neighbors(self.data_x, self.data_y, test_x)\n",
        "\n",
        "  def score(self, test_x, test_y):\n",
        "    correct = 0\n",
        "    correct += (self.predict(test_x)) == test_y\n",
        "\n",
        "    return float(correct.sum().item())/len(test_x)"
      ],
      "execution_count": 43,
      "outputs": []
    },
    {
      "cell_type": "markdown",
      "metadata": {
        "id": "Ul8LAtW2NlCe",
        "colab_type": "text"
      },
      "source": [
        "# Comparing Results"
      ]
    },
    {
      "cell_type": "markdown",
      "metadata": {
        "id": "NSay665Azpwo",
        "colab_type": "text"
      },
      "source": [
        "## Comparison on iris dataset"
      ]
    },
    {
      "cell_type": "code",
      "metadata": {
        "id": "4bwubGHFVLyx",
        "colab_type": "code",
        "colab": {}
      },
      "source": [
        "from sklearn.model_selection import train_test_split"
      ],
      "execution_count": 36,
      "outputs": []
    },
    {
      "cell_type": "code",
      "metadata": {
        "id": "H0w3U6tkVP9r",
        "colab_type": "code",
        "colab": {}
      },
      "source": [
        "x_train, x_test, y_train, y_test = train_test_split(data.data, data.target, random_state=42, shuffle=True, stratify=data.target)"
      ],
      "execution_count": 37,
      "outputs": []
    },
    {
      "cell_type": "code",
      "metadata": {
        "id": "tD6x3h8YVvUq",
        "colab_type": "code",
        "colab": {
          "base_uri": "https://localhost:8080/",
          "height": 34
        },
        "outputId": "7cfcdc67-7494-4167-dd32-b2673d3de766"
      },
      "source": [
        "x_train.shape, y_train.shape"
      ],
      "execution_count": 38,
      "outputs": [
        {
          "output_type": "execute_result",
          "data": {
            "text/plain": [
              "((112, 4), (112,))"
            ]
          },
          "metadata": {
            "tags": []
          },
          "execution_count": 38
        }
      ]
    },
    {
      "cell_type": "code",
      "metadata": {
        "id": "blwNLxFFV-Vm",
        "colab_type": "code",
        "colab": {}
      },
      "source": [
        "#inputs for pytorch model\n",
        "X = torch.from_numpy(x_train)\n",
        "y = torch.from_numpy(y_train)\n",
        "X_ = torch.from_numpy(x_test)\n",
        "y_ = torch.from_numpy(y_test)"
      ],
      "execution_count": 39,
      "outputs": []
    },
    {
      "cell_type": "markdown",
      "metadata": {
        "id": "foqfGSpxx4zk",
        "colab_type": "text"
      },
      "source": [
        "Our Model"
      ]
    },
    {
      "cell_type": "code",
      "metadata": {
        "id": "QB8wtzHFVhmD",
        "colab_type": "code",
        "colab": {
          "base_uri": "https://localhost:8080/",
          "height": 86
        },
        "outputId": "6078dea1-75a9-48e9-b01c-4dcaf32ceb91"
      },
      "source": [
        "%time\n",
        "knn_p = KNN(4)\n",
        "knn_p.fit(X, y)\n",
        "knn_p.predict(X_)"
      ],
      "execution_count": 46,
      "outputs": [
        {
          "output_type": "stream",
          "text": [
            "CPU times: user 2 µs, sys: 0 ns, total: 2 µs\n",
            "Wall time: 4.53 µs\n"
          ],
          "name": "stdout"
        },
        {
          "output_type": "execute_result",
          "data": {
            "text/plain": [
              "tensor([0, 1, 1, 1, 0, 1, 2, 2, 2, 2, 1, 2, 1, 1, 0, 0, 0, 1, 0, 1, 2, 1, 2, 1,\n",
              "        2, 1, 0, 2, 0, 1, 2, 2, 0, 0, 0, 0, 2, 1], dtype=torch.int32)"
            ]
          },
          "metadata": {
            "tags": []
          },
          "execution_count": 46
        }
      ]
    },
    {
      "cell_type": "markdown",
      "metadata": {
        "id": "gGYImXVfbkMI",
        "colab_type": "text"
      },
      "source": [
        "Sklearn's Model"
      ]
    },
    {
      "cell_type": "code",
      "metadata": {
        "id": "ep4tE_JuXAES",
        "colab_type": "code",
        "colab": {
          "base_uri": "https://localhost:8080/",
          "height": 86
        },
        "outputId": "157d95c0-d656-4369-83b1-cdf5a9659109"
      },
      "source": [
        "%time\n",
        "#sklearn's model\n",
        "knn_s = KNeighborsClassifier(4)\n",
        "knn_s.fit(x_train, y_train)\n",
        "knn_s.predict(x_test)"
      ],
      "execution_count": 47,
      "outputs": [
        {
          "output_type": "stream",
          "text": [
            "CPU times: user 2 µs, sys: 0 ns, total: 2 µs\n",
            "Wall time: 6.44 µs\n"
          ],
          "name": "stdout"
        },
        {
          "output_type": "execute_result",
          "data": {
            "text/plain": [
              "array([0, 1, 1, 1, 0, 1, 2, 2, 2, 2, 1, 2, 1, 1, 0, 0, 0, 1, 0, 1, 2, 1,\n",
              "       2, 1, 2, 1, 0, 2, 0, 1, 2, 2, 0, 0, 0, 0, 2, 1])"
            ]
          },
          "metadata": {
            "tags": []
          },
          "execution_count": 47
        }
      ]
    },
    {
      "cell_type": "code",
      "metadata": {
        "id": "OPWfqzNafmH6",
        "colab_type": "code",
        "colab": {
          "base_uri": "https://localhost:8080/",
          "height": 69
        },
        "outputId": "0ff96da9-117e-43ab-8117-c952eb6e5472"
      },
      "source": [
        "%time\n",
        "knn_s.score(x_test, y_test)"
      ],
      "execution_count": 49,
      "outputs": [
        {
          "output_type": "stream",
          "text": [
            "CPU times: user 3 µs, sys: 0 ns, total: 3 µs\n",
            "Wall time: 5.96 µs\n"
          ],
          "name": "stdout"
        },
        {
          "output_type": "execute_result",
          "data": {
            "text/plain": [
              "0.9736842105263158"
            ]
          },
          "metadata": {
            "tags": []
          },
          "execution_count": 49
        }
      ]
    },
    {
      "cell_type": "code",
      "metadata": {
        "id": "3yshb-TegLLw",
        "colab_type": "code",
        "colab": {
          "base_uri": "https://localhost:8080/",
          "height": 69
        },
        "outputId": "64215156-2291-41a4-9e3d-8e8e808bbd73"
      },
      "source": [
        "%time\n",
        "knn_p.score(X_, y_)"
      ],
      "execution_count": 53,
      "outputs": [
        {
          "output_type": "stream",
          "text": [
            "CPU times: user 2 µs, sys: 0 ns, total: 2 µs\n",
            "Wall time: 4.77 µs\n"
          ],
          "name": "stdout"
        },
        {
          "output_type": "execute_result",
          "data": {
            "text/plain": [
              "0.9736842105263158"
            ]
          },
          "metadata": {
            "tags": []
          },
          "execution_count": 53
        }
      ]
    },
    {
      "cell_type": "code",
      "metadata": {
        "id": "cMjjrtHZyXOJ",
        "colab_type": "code",
        "colab": {
          "base_uri": "https://localhost:8080/",
          "height": 52
        },
        "outputId": "bf8f42b7-85d5-4e39-bf36-197aa85ef138"
      },
      "source": [
        "print(\"Sklearn's score: \", knn_s.score(x_test, y_test))\n",
        "print(\"Our model's score: \", knn_p.score(X_, y_))"
      ],
      "execution_count": 54,
      "outputs": [
        {
          "output_type": "stream",
          "text": [
            "Sklearn's score:  0.9736842105263158\n",
            "Our model's score:  0.9736842105263158\n"
          ],
          "name": "stdout"
        }
      ]
    },
    {
      "cell_type": "markdown",
      "metadata": {
        "id": "sxV_THQXxBW7",
        "colab_type": "text"
      },
      "source": [
        "## Comparison on breast cancer dataset"
      ]
    },
    {
      "cell_type": "code",
      "metadata": {
        "id": "5BqXwqj9jwwW",
        "colab_type": "code",
        "colab": {}
      },
      "source": [
        "from sklearn.datasets import load_breast_cancer"
      ],
      "execution_count": 55,
      "outputs": []
    },
    {
      "cell_type": "code",
      "metadata": {
        "id": "D_ZBQYiIrhtY",
        "colab_type": "code",
        "colab": {}
      },
      "source": [
        "data = load_breast_cancer()\n",
        "\n",
        "x_train, x_test, y_train, y_test = train_test_split(data.data, data.target, random_state=42, shuffle=True, stratify=data.target)"
      ],
      "execution_count": 56,
      "outputs": []
    },
    {
      "cell_type": "code",
      "metadata": {
        "id": "XQMixUDarsyo",
        "colab_type": "code",
        "colab": {}
      },
      "source": [
        "#inputs for pytorch model\n",
        "X = torch.from_numpy(x_train)\n",
        "y = torch.from_numpy(y_train)\n",
        "X_ = torch.from_numpy(x_test)\n",
        "y_ = torch.from_numpy(y_test)"
      ],
      "execution_count": 57,
      "outputs": []
    },
    {
      "cell_type": "markdown",
      "metadata": {
        "id": "7fTNlOchx8Hz",
        "colab_type": "text"
      },
      "source": [
        "Our Model"
      ]
    },
    {
      "cell_type": "code",
      "metadata": {
        "id": "z7So2dOHrwMR",
        "colab_type": "code",
        "colab": {
          "base_uri": "https://localhost:8080/",
          "height": 173
        },
        "outputId": "bf103080-ec1d-4b33-c844-675c97a8b3d4"
      },
      "source": [
        "%time\n",
        "knn_p = KNN(3)\n",
        "knn_p.fit(X, y)\n",
        "knn_p.predict(X_)"
      ],
      "execution_count": 69,
      "outputs": [
        {
          "output_type": "stream",
          "text": [
            "CPU times: user 2 µs, sys: 0 ns, total: 2 µs\n",
            "Wall time: 5.01 µs\n"
          ],
          "name": "stdout"
        },
        {
          "output_type": "execute_result",
          "data": {
            "text/plain": [
              "tensor([1, 0, 1, 1, 1, 0, 0, 0, 0, 1, 1, 1, 0, 0, 1, 1, 0, 1, 1, 1, 0, 0, 1, 1,\n",
              "        1, 1, 1, 1, 1, 0, 1, 1, 1, 1, 1, 1, 1, 1, 0, 1, 0, 1, 0, 1, 1, 1, 0, 1,\n",
              "        0, 1, 1, 1, 1, 0, 1, 0, 1, 0, 0, 0, 1, 0, 1, 0, 1, 1, 0, 1, 1, 1, 1, 1,\n",
              "        1, 1, 1, 0, 0, 0, 0, 1, 1, 1, 1, 1, 0, 1, 0, 1, 1, 1, 1, 0, 0, 1, 0, 0,\n",
              "        0, 1, 0, 1, 0, 0, 0, 1, 1, 0, 1, 1, 0, 1, 0, 1, 1, 0, 1, 0, 1, 1, 1, 0,\n",
              "        1, 1, 0, 1, 0, 1, 1, 0, 1, 1, 0, 1, 1, 1, 0, 0, 1, 1, 1, 1, 1, 1, 1],\n",
              "       dtype=torch.int32)"
            ]
          },
          "metadata": {
            "tags": []
          },
          "execution_count": 69
        }
      ]
    },
    {
      "cell_type": "markdown",
      "metadata": {
        "id": "DEreUmOIx-ww",
        "colab_type": "text"
      },
      "source": [
        "Sklearn's Model"
      ]
    },
    {
      "cell_type": "code",
      "metadata": {
        "id": "IM2UhIlTr31A",
        "colab_type": "code",
        "colab": {
          "base_uri": "https://localhost:8080/",
          "height": 173
        },
        "outputId": "55f26b0e-116f-41dd-df6a-54055eba1534"
      },
      "source": [
        "%time\n",
        "#sklearn's model\n",
        "knn_s = KNeighborsClassifier(3)\n",
        "knn_s.fit(x_train, y_train)\n",
        "knn_s.predict(x_test)"
      ],
      "execution_count": 72,
      "outputs": [
        {
          "output_type": "stream",
          "text": [
            "CPU times: user 3 µs, sys: 0 ns, total: 3 µs\n",
            "Wall time: 7.87 µs\n"
          ],
          "name": "stdout"
        },
        {
          "output_type": "execute_result",
          "data": {
            "text/plain": [
              "array([1, 0, 1, 0, 1, 0, 0, 0, 0, 1, 1, 1, 0, 0, 1, 1, 0, 1, 1, 1, 0, 0,\n",
              "       1, 1, 1, 1, 1, 1, 1, 0, 1, 1, 1, 1, 1, 1, 1, 1, 0, 1, 0, 1, 0, 1,\n",
              "       1, 1, 0, 1, 0, 1, 1, 1, 1, 0, 1, 0, 1, 0, 0, 0, 1, 0, 1, 0, 1, 1,\n",
              "       0, 1, 1, 1, 1, 1, 1, 1, 1, 0, 0, 0, 0, 1, 1, 1, 1, 1, 0, 1, 0, 1,\n",
              "       1, 1, 1, 0, 0, 1, 0, 0, 0, 1, 0, 1, 0, 0, 0, 1, 1, 0, 1, 1, 0, 1,\n",
              "       0, 1, 1, 1, 1, 0, 1, 1, 1, 0, 1, 1, 0, 1, 0, 1, 1, 0, 1, 1, 0, 1,\n",
              "       1, 1, 0, 0, 1, 1, 1, 1, 1, 1, 1])"
            ]
          },
          "metadata": {
            "tags": []
          },
          "execution_count": 72
        }
      ]
    },
    {
      "cell_type": "code",
      "metadata": {
        "id": "0B-DULQlr8vv",
        "colab_type": "code",
        "colab": {
          "base_uri": "https://localhost:8080/",
          "height": 69
        },
        "outputId": "0710cbb4-c2a1-4b72-8514-37bf9e2bad8c"
      },
      "source": [
        "%time\n",
        "knn_p.score(X_, y_)"
      ],
      "execution_count": 75,
      "outputs": [
        {
          "output_type": "stream",
          "text": [
            "CPU times: user 2 µs, sys: 1 µs, total: 3 µs\n",
            "Wall time: 5.01 µs\n"
          ],
          "name": "stdout"
        },
        {
          "output_type": "execute_result",
          "data": {
            "text/plain": [
              "0.9440559440559441"
            ]
          },
          "metadata": {
            "tags": []
          },
          "execution_count": 75
        }
      ]
    },
    {
      "cell_type": "code",
      "metadata": {
        "id": "A-tLCi2lr_9O",
        "colab_type": "code",
        "colab": {
          "base_uri": "https://localhost:8080/",
          "height": 69
        },
        "outputId": "f236e519-87ad-4254-ec5b-51d235063c6d"
      },
      "source": [
        "%time\n",
        "knn_s.score(x_test, y_test)"
      ],
      "execution_count": 76,
      "outputs": [
        {
          "output_type": "stream",
          "text": [
            "CPU times: user 3 µs, sys: 0 ns, total: 3 µs\n",
            "Wall time: 6.44 µs\n"
          ],
          "name": "stdout"
        },
        {
          "output_type": "execute_result",
          "data": {
            "text/plain": [
              "0.9300699300699301"
            ]
          },
          "metadata": {
            "tags": []
          },
          "execution_count": 76
        }
      ]
    },
    {
      "cell_type": "code",
      "metadata": {
        "id": "jxwHWD_2yrFt",
        "colab_type": "code",
        "colab": {
          "base_uri": "https://localhost:8080/",
          "height": 52
        },
        "outputId": "c7962b2d-aa54-4488-c7f3-e280f52a6b9d"
      },
      "source": [
        "print(\"Sklearn's score: \", knn_s.score(x_test, y_test))\n",
        "print(\"Our model's score: \", knn_p.score(X_, y_))"
      ],
      "execution_count": 77,
      "outputs": [
        {
          "output_type": "stream",
          "text": [
            "Sklearn's score:  0.9300699300699301\n",
            "Our model's score:  0.9440559440559441\n"
          ],
          "name": "stdout"
        }
      ]
    }
  ]
}